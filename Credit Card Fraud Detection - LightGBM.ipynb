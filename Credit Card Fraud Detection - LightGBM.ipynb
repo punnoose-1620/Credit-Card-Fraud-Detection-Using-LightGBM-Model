{
 "cells": [
  {
   "cell_type": "markdown",
   "id": "d235c9a2-d31a-4679-a0b4-37ab72987f46",
   "metadata": {},
   "source": [
    "***Credit Card Fraud Detection using LightGBM Model***"
   ]
  },
  {
   "cell_type": "markdown",
   "id": "a5832912-b000-4316-a0c4-3e2f742875c9",
   "metadata": {},
   "source": [
    "**Importing Necessary Libraries**"
   ]
  },
  {
   "cell_type": "code",
   "execution_count": 5,
   "id": "0abfb9de-6cd3-4798-9c83-7da68b742431",
   "metadata": {},
   "outputs": [],
   "source": [
    "import os\n",
    "import csv\n",
    "import random\n",
    "import numpy as np\n",
    "import pandas as pd\n",
    "import matplotlib.pyplot as plt\n",
    "import seaborn as sns\n",
    "import scikitplot as skplt\n",
    "\n",
    "from lightgbm import LGBMClassifier\n",
    "\n",
    "from imblearn.under_sampling import RandomUnderSampler\n",
    "from imblearn.pipeline import Pipeline\n",
    "from imblearn.metrics import classification_report_imbalanced\n",
    "\n",
    "from sklearn.preprocessing import StandardScaler\n",
    "from sklearn.model_selection import train_test_split, GroupKFold, StratifiedKFold\n",
    "from sklearn.metrics import (matthews_corrcoef, roc_auc_score,\n",
    "                             average_precision_score, f1_score)\n",
    "\n",
    "from sklearn.experimental import enable_halving_search_cv # noqa\n",
    "from sklearn.model_selection import HalvingGridSearchCV"
   ]
  },
  {
   "cell_type": "markdown",
   "id": "1297da18-70e1-4ca6-b3ea-08a097f9b5c2",
   "metadata": {},
   "source": [
    "**Set Seed for Reproducability**"
   ]
  },
  {
   "cell_type": "code",
   "execution_count": 6,
   "id": "8504fab0-e969-47a4-8d33-2c824f8feffc",
   "metadata": {},
   "outputs": [],
   "source": [
    "SEED = 1\n",
    "random.seed(SEED)\n",
    "np.random.seed(SEED)\n",
    "os.environ['PYTHONHASHSEED'] = str(SEED)"
   ]
  },
  {
   "cell_type": "markdown",
   "id": "e2bae3cd-4c88-4a82-8dee-735ce8ddbd00",
   "metadata": {},
   "source": [
    "Boolean value to control whether to use previous grid search result or perform new search"
   ]
  },
  {
   "cell_type": "code",
   "execution_count": 7,
   "id": "3737b52b-5914-41a0-aad6-1ea4f4648062",
   "metadata": {},
   "outputs": [],
   "source": [
    "USE_TUNED_PARAMS = True"
   ]
  },
  {
   "cell_type": "markdown",
   "id": "bc00aeaf-092d-4444-898f-f4e6bd5c6017",
   "metadata": {},
   "source": [
    "**Loading the Data**\n",
    "\n",
    "Using customized read_csv() to optimize datatypes and minimize memory usage"
   ]
  },
  {
   "cell_type": "code",
   "execution_count": 8,
   "id": "a0e3982b-a1d2-417d-a849-8b7b44733a46",
   "metadata": {},
   "outputs": [],
   "source": [
    "def read_csv(file_path: str, nrows=None, dtype=np.float32) -> pd.DataFrame:\n",
    "    with open(file_path, 'r') as f:\n",
    "        column_names = next(csv.reader(f))\n",
    "    dtypes = {x: dtype for x in column_names if\n",
    "            x != 'Class'}\n",
    "    dtypes['Class'] = np.int8\n",
    "    return pd.read_csv(file_path, nrows=nrows, dtype=dtypes)"
   ]
  },
  {
   "cell_type": "code",
   "execution_count": 9,
   "id": "feab57a8-7d9f-4ea0-ad48-82e42b2ed1eb",
   "metadata": {},
   "outputs": [
    {
     "name": "stdout",
     "output_type": "stream",
     "text": [
      "<class 'pandas.core.frame.DataFrame'>\n",
      "RangeIndex: 284807 entries, 0 to 284806\n",
      "Data columns (total 31 columns):\n",
      " #   Column  Non-Null Count   Dtype  \n",
      "---  ------  --------------   -----  \n",
      " 0   Time    284807 non-null  float32\n",
      " 1   V1      284807 non-null  float32\n",
      " 2   V2      284807 non-null  float32\n",
      " 3   V3      284807 non-null  float32\n",
      " 4   V4      284807 non-null  float32\n",
      " 5   V5      284807 non-null  float32\n",
      " 6   V6      284807 non-null  float32\n",
      " 7   V7      284807 non-null  float32\n",
      " 8   V8      284807 non-null  float32\n",
      " 9   V9      284807 non-null  float32\n",
      " 10  V10     284807 non-null  float32\n",
      " 11  V11     284807 non-null  float32\n",
      " 12  V12     284807 non-null  float32\n",
      " 13  V13     284807 non-null  float32\n",
      " 14  V14     284807 non-null  float32\n",
      " 15  V15     284807 non-null  float32\n",
      " 16  V16     284807 non-null  float32\n",
      " 17  V17     284807 non-null  float32\n",
      " 18  V18     284807 non-null  float32\n",
      " 19  V19     284807 non-null  float32\n",
      " 20  V20     284807 non-null  float32\n",
      " 21  V21     284807 non-null  float32\n",
      " 22  V22     284807 non-null  float32\n",
      " 23  V23     284807 non-null  float32\n",
      " 24  V24     284807 non-null  float32\n",
      " 25  V25     284807 non-null  float32\n",
      " 26  V26     284807 non-null  float32\n",
      " 27  V27     284807 non-null  float32\n",
      " 28  V28     284807 non-null  float32\n",
      " 29  Amount  284807 non-null  float32\n",
      " 30  Class   284807 non-null  int8   \n",
      "dtypes: float32(30), int8(1)\n",
      "memory usage: 32.9 MB\n"
     ]
    }
   ],
   "source": [
    "filePath = '/home/punnoose1997/Documents/Ophir Projects/Credit Card Fraud Detection - LightGBM Model/creditcard.csv'\n",
    "df = read_csv(filePath)\n",
    "df.info()"
   ]
  },
  {
   "cell_type": "code",
   "execution_count": 10,
   "id": "658dccaf-0e25-4a59-a71a-9547bf11d8f2",
   "metadata": {},
   "outputs": [
    {
     "data": {
      "text/html": [
       "<div>\n",
       "<style scoped>\n",
       "    .dataframe tbody tr th:only-of-type {\n",
       "        vertical-align: middle;\n",
       "    }\n",
       "\n",
       "    .dataframe tbody tr th {\n",
       "        vertical-align: top;\n",
       "    }\n",
       "\n",
       "    .dataframe thead th {\n",
       "        text-align: right;\n",
       "    }\n",
       "</style>\n",
       "<table border=\"1\" class=\"dataframe\">\n",
       "  <thead>\n",
       "    <tr style=\"text-align: right;\">\n",
       "      <th></th>\n",
       "      <th>Time</th>\n",
       "      <th>V1</th>\n",
       "      <th>V2</th>\n",
       "      <th>V3</th>\n",
       "      <th>V4</th>\n",
       "      <th>V5</th>\n",
       "      <th>V6</th>\n",
       "      <th>V7</th>\n",
       "      <th>V8</th>\n",
       "      <th>V9</th>\n",
       "      <th>...</th>\n",
       "      <th>V21</th>\n",
       "      <th>V22</th>\n",
       "      <th>V23</th>\n",
       "      <th>V24</th>\n",
       "      <th>V25</th>\n",
       "      <th>V26</th>\n",
       "      <th>V27</th>\n",
       "      <th>V28</th>\n",
       "      <th>Amount</th>\n",
       "      <th>Class</th>\n",
       "    </tr>\n",
       "  </thead>\n",
       "  <tbody>\n",
       "    <tr>\n",
       "      <th>0</th>\n",
       "      <td>0.0</td>\n",
       "      <td>-1.359807</td>\n",
       "      <td>-0.072781</td>\n",
       "      <td>2.536347</td>\n",
       "      <td>1.378155</td>\n",
       "      <td>-0.338321</td>\n",
       "      <td>0.462388</td>\n",
       "      <td>0.239599</td>\n",
       "      <td>0.098698</td>\n",
       "      <td>0.363787</td>\n",
       "      <td>...</td>\n",
       "      <td>-0.018307</td>\n",
       "      <td>0.277838</td>\n",
       "      <td>-0.110474</td>\n",
       "      <td>0.066928</td>\n",
       "      <td>0.128539</td>\n",
       "      <td>-0.189115</td>\n",
       "      <td>0.133558</td>\n",
       "      <td>-0.021053</td>\n",
       "      <td>149.619995</td>\n",
       "      <td>0</td>\n",
       "    </tr>\n",
       "    <tr>\n",
       "      <th>1</th>\n",
       "      <td>0.0</td>\n",
       "      <td>1.191857</td>\n",
       "      <td>0.266151</td>\n",
       "      <td>0.166480</td>\n",
       "      <td>0.448154</td>\n",
       "      <td>0.060018</td>\n",
       "      <td>-0.082361</td>\n",
       "      <td>-0.078803</td>\n",
       "      <td>0.085102</td>\n",
       "      <td>-0.255425</td>\n",
       "      <td>...</td>\n",
       "      <td>-0.225775</td>\n",
       "      <td>-0.638672</td>\n",
       "      <td>0.101288</td>\n",
       "      <td>-0.339846</td>\n",
       "      <td>0.167170</td>\n",
       "      <td>0.125895</td>\n",
       "      <td>-0.008983</td>\n",
       "      <td>0.014724</td>\n",
       "      <td>2.690000</td>\n",
       "      <td>0</td>\n",
       "    </tr>\n",
       "    <tr>\n",
       "      <th>2</th>\n",
       "      <td>1.0</td>\n",
       "      <td>-1.358354</td>\n",
       "      <td>-1.340163</td>\n",
       "      <td>1.773209</td>\n",
       "      <td>0.379780</td>\n",
       "      <td>-0.503198</td>\n",
       "      <td>1.800499</td>\n",
       "      <td>0.791461</td>\n",
       "      <td>0.247676</td>\n",
       "      <td>-1.514654</td>\n",
       "      <td>...</td>\n",
       "      <td>0.247998</td>\n",
       "      <td>0.771679</td>\n",
       "      <td>0.909412</td>\n",
       "      <td>-0.689281</td>\n",
       "      <td>-0.327642</td>\n",
       "      <td>-0.139097</td>\n",
       "      <td>-0.055353</td>\n",
       "      <td>-0.059752</td>\n",
       "      <td>378.660004</td>\n",
       "      <td>0</td>\n",
       "    </tr>\n",
       "    <tr>\n",
       "      <th>3</th>\n",
       "      <td>1.0</td>\n",
       "      <td>-0.966272</td>\n",
       "      <td>-0.185226</td>\n",
       "      <td>1.792993</td>\n",
       "      <td>-0.863291</td>\n",
       "      <td>-0.010309</td>\n",
       "      <td>1.247203</td>\n",
       "      <td>0.237609</td>\n",
       "      <td>0.377436</td>\n",
       "      <td>-1.387024</td>\n",
       "      <td>...</td>\n",
       "      <td>-0.108300</td>\n",
       "      <td>0.005274</td>\n",
       "      <td>-0.190321</td>\n",
       "      <td>-1.175575</td>\n",
       "      <td>0.647376</td>\n",
       "      <td>-0.221929</td>\n",
       "      <td>0.062723</td>\n",
       "      <td>0.061458</td>\n",
       "      <td>123.500000</td>\n",
       "      <td>0</td>\n",
       "    </tr>\n",
       "    <tr>\n",
       "      <th>4</th>\n",
       "      <td>2.0</td>\n",
       "      <td>-1.158233</td>\n",
       "      <td>0.877737</td>\n",
       "      <td>1.548718</td>\n",
       "      <td>0.403034</td>\n",
       "      <td>-0.407193</td>\n",
       "      <td>0.095921</td>\n",
       "      <td>0.592941</td>\n",
       "      <td>-0.270533</td>\n",
       "      <td>0.817739</td>\n",
       "      <td>...</td>\n",
       "      <td>-0.009431</td>\n",
       "      <td>0.798279</td>\n",
       "      <td>-0.137458</td>\n",
       "      <td>0.141267</td>\n",
       "      <td>-0.206010</td>\n",
       "      <td>0.502292</td>\n",
       "      <td>0.219422</td>\n",
       "      <td>0.215153</td>\n",
       "      <td>69.989998</td>\n",
       "      <td>0</td>\n",
       "    </tr>\n",
       "  </tbody>\n",
       "</table>\n",
       "<p>5 rows × 31 columns</p>\n",
       "</div>"
      ],
      "text/plain": [
       "   Time        V1        V2        V3        V4        V5        V6        V7  \\\n",
       "0   0.0 -1.359807 -0.072781  2.536347  1.378155 -0.338321  0.462388  0.239599   \n",
       "1   0.0  1.191857  0.266151  0.166480  0.448154  0.060018 -0.082361 -0.078803   \n",
       "2   1.0 -1.358354 -1.340163  1.773209  0.379780 -0.503198  1.800499  0.791461   \n",
       "3   1.0 -0.966272 -0.185226  1.792993 -0.863291 -0.010309  1.247203  0.237609   \n",
       "4   2.0 -1.158233  0.877737  1.548718  0.403034 -0.407193  0.095921  0.592941   \n",
       "\n",
       "         V8        V9  ...       V21       V22       V23       V24       V25  \\\n",
       "0  0.098698  0.363787  ... -0.018307  0.277838 -0.110474  0.066928  0.128539   \n",
       "1  0.085102 -0.255425  ... -0.225775 -0.638672  0.101288 -0.339846  0.167170   \n",
       "2  0.247676 -1.514654  ...  0.247998  0.771679  0.909412 -0.689281 -0.327642   \n",
       "3  0.377436 -1.387024  ... -0.108300  0.005274 -0.190321 -1.175575  0.647376   \n",
       "4 -0.270533  0.817739  ... -0.009431  0.798279 -0.137458  0.141267 -0.206010   \n",
       "\n",
       "        V26       V27       V28      Amount  Class  \n",
       "0 -0.189115  0.133558 -0.021053  149.619995      0  \n",
       "1  0.125895 -0.008983  0.014724    2.690000      0  \n",
       "2 -0.139097 -0.055353 -0.059752  378.660004      0  \n",
       "3 -0.221929  0.062723  0.061458  123.500000      0  \n",
       "4  0.502292  0.219422  0.215153   69.989998      0  \n",
       "\n",
       "[5 rows x 31 columns]"
      ]
     },
     "execution_count": 10,
     "metadata": {},
     "output_type": "execute_result"
    }
   ],
   "source": [
    "df.head()"
   ]
  },
  {
   "cell_type": "markdown",
   "id": "902fb2f5-45a1-4f66-b26c-a29913497f74",
   "metadata": {},
   "source": [
    "**Data Exploration**"
   ]
  },
  {
   "cell_type": "code",
   "execution_count": 11,
   "id": "603fff23-94ed-4ef5-8af1-f5696cb57653",
   "metadata": {},
   "outputs": [
    {
     "data": {
      "text/html": [
       "<div>\n",
       "<style scoped>\n",
       "    .dataframe tbody tr th:only-of-type {\n",
       "        vertical-align: middle;\n",
       "    }\n",
       "\n",
       "    .dataframe tbody tr th {\n",
       "        vertical-align: top;\n",
       "    }\n",
       "\n",
       "    .dataframe thead th {\n",
       "        text-align: right;\n",
       "    }\n",
       "</style>\n",
       "<table border=\"1\" class=\"dataframe\">\n",
       "  <thead>\n",
       "    <tr style=\"text-align: right;\">\n",
       "      <th></th>\n",
       "      <th>Time</th>\n",
       "      <th>V1</th>\n",
       "      <th>V2</th>\n",
       "      <th>V3</th>\n",
       "      <th>V4</th>\n",
       "      <th>V5</th>\n",
       "      <th>V6</th>\n",
       "      <th>V7</th>\n",
       "      <th>V8</th>\n",
       "      <th>V9</th>\n",
       "      <th>...</th>\n",
       "      <th>V21</th>\n",
       "      <th>V22</th>\n",
       "      <th>V23</th>\n",
       "      <th>V24</th>\n",
       "      <th>V25</th>\n",
       "      <th>V26</th>\n",
       "      <th>V27</th>\n",
       "      <th>V28</th>\n",
       "      <th>Amount</th>\n",
       "      <th>Class</th>\n",
       "    </tr>\n",
       "  </thead>\n",
       "  <tbody>\n",
       "    <tr>\n",
       "      <th>count</th>\n",
       "      <td>284807.000000</td>\n",
       "      <td>2.848070e+05</td>\n",
       "      <td>284807.000000</td>\n",
       "      <td>2.848070e+05</td>\n",
       "      <td>2.848070e+05</td>\n",
       "      <td>2.848070e+05</td>\n",
       "      <td>2.848070e+05</td>\n",
       "      <td>2.848070e+05</td>\n",
       "      <td>2.848070e+05</td>\n",
       "      <td>2.848070e+05</td>\n",
       "      <td>...</td>\n",
       "      <td>2.848070e+05</td>\n",
       "      <td>2.848070e+05</td>\n",
       "      <td>2.848070e+05</td>\n",
       "      <td>2.848070e+05</td>\n",
       "      <td>2.848070e+05</td>\n",
       "      <td>2.848070e+05</td>\n",
       "      <td>2.848070e+05</td>\n",
       "      <td>2.848070e+05</td>\n",
       "      <td>284807.000000</td>\n",
       "      <td>284807.000000</td>\n",
       "    </tr>\n",
       "    <tr>\n",
       "      <th>mean</th>\n",
       "      <td>94813.867188</td>\n",
       "      <td>1.339397e-08</td>\n",
       "      <td>0.000000</td>\n",
       "      <td>-4.800400e-08</td>\n",
       "      <td>6.643411e-09</td>\n",
       "      <td>2.657364e-08</td>\n",
       "      <td>-1.500125e-09</td>\n",
       "      <td>-1.071518e-09</td>\n",
       "      <td>-1.071518e-10</td>\n",
       "      <td>-3.214554e-10</td>\n",
       "      <td>...</td>\n",
       "      <td>-1.928732e-09</td>\n",
       "      <td>3.643161e-09</td>\n",
       "      <td>3.214554e-10</td>\n",
       "      <td>1.259033e-09</td>\n",
       "      <td>2.143036e-09</td>\n",
       "      <td>1.034684e-09</td>\n",
       "      <td>1.138488e-10</td>\n",
       "      <td>-1.272427e-10</td>\n",
       "      <td>88.349609</td>\n",
       "      <td>0.001727</td>\n",
       "    </tr>\n",
       "    <tr>\n",
       "      <th>std</th>\n",
       "      <td>47488.144531</td>\n",
       "      <td>1.958696e+00</td>\n",
       "      <td>1.651309</td>\n",
       "      <td>1.516255e+00</td>\n",
       "      <td>1.415869e+00</td>\n",
       "      <td>1.380247e+00</td>\n",
       "      <td>1.332271e+00</td>\n",
       "      <td>1.237094e+00</td>\n",
       "      <td>1.194353e+00</td>\n",
       "      <td>1.098632e+00</td>\n",
       "      <td>...</td>\n",
       "      <td>7.345240e-01</td>\n",
       "      <td>7.257016e-01</td>\n",
       "      <td>6.244603e-01</td>\n",
       "      <td>6.056471e-01</td>\n",
       "      <td>5.212781e-01</td>\n",
       "      <td>4.822270e-01</td>\n",
       "      <td>4.036325e-01</td>\n",
       "      <td>3.300833e-01</td>\n",
       "      <td>250.120117</td>\n",
       "      <td>0.041527</td>\n",
       "    </tr>\n",
       "    <tr>\n",
       "      <th>min</th>\n",
       "      <td>0.000000</td>\n",
       "      <td>-5.640751e+01</td>\n",
       "      <td>-72.715729</td>\n",
       "      <td>-4.832559e+01</td>\n",
       "      <td>-5.683171e+00</td>\n",
       "      <td>-1.137433e+02</td>\n",
       "      <td>-2.616051e+01</td>\n",
       "      <td>-4.355724e+01</td>\n",
       "      <td>-7.321672e+01</td>\n",
       "      <td>-1.343407e+01</td>\n",
       "      <td>...</td>\n",
       "      <td>-3.483038e+01</td>\n",
       "      <td>-1.093314e+01</td>\n",
       "      <td>-4.480774e+01</td>\n",
       "      <td>-2.836627e+00</td>\n",
       "      <td>-1.029540e+01</td>\n",
       "      <td>-2.604551e+00</td>\n",
       "      <td>-2.256568e+01</td>\n",
       "      <td>-1.543008e+01</td>\n",
       "      <td>0.000000</td>\n",
       "      <td>0.000000</td>\n",
       "    </tr>\n",
       "    <tr>\n",
       "      <th>25%</th>\n",
       "      <td>54201.500000</td>\n",
       "      <td>-9.203734e-01</td>\n",
       "      <td>-0.598550</td>\n",
       "      <td>-8.903648e-01</td>\n",
       "      <td>-8.486401e-01</td>\n",
       "      <td>-6.915971e-01</td>\n",
       "      <td>-7.682956e-01</td>\n",
       "      <td>-5.540759e-01</td>\n",
       "      <td>-2.086297e-01</td>\n",
       "      <td>-6.430976e-01</td>\n",
       "      <td>...</td>\n",
       "      <td>-2.283949e-01</td>\n",
       "      <td>-5.423504e-01</td>\n",
       "      <td>-1.618463e-01</td>\n",
       "      <td>-3.545861e-01</td>\n",
       "      <td>-3.171451e-01</td>\n",
       "      <td>-3.269839e-01</td>\n",
       "      <td>-7.083953e-02</td>\n",
       "      <td>-5.295979e-02</td>\n",
       "      <td>5.600000</td>\n",
       "      <td>0.000000</td>\n",
       "    </tr>\n",
       "    <tr>\n",
       "      <th>50%</th>\n",
       "      <td>84692.000000</td>\n",
       "      <td>1.810880e-02</td>\n",
       "      <td>0.065486</td>\n",
       "      <td>1.798463e-01</td>\n",
       "      <td>-1.984653e-02</td>\n",
       "      <td>-5.433583e-02</td>\n",
       "      <td>-2.741871e-01</td>\n",
       "      <td>4.010308e-02</td>\n",
       "      <td>2.235804e-02</td>\n",
       "      <td>-5.142873e-02</td>\n",
       "      <td>...</td>\n",
       "      <td>-2.945017e-02</td>\n",
       "      <td>6.781943e-03</td>\n",
       "      <td>-1.119293e-02</td>\n",
       "      <td>4.097605e-02</td>\n",
       "      <td>1.659350e-02</td>\n",
       "      <td>-5.213911e-02</td>\n",
       "      <td>1.342146e-03</td>\n",
       "      <td>1.124383e-02</td>\n",
       "      <td>22.000000</td>\n",
       "      <td>0.000000</td>\n",
       "    </tr>\n",
       "    <tr>\n",
       "      <th>75%</th>\n",
       "      <td>139320.500000</td>\n",
       "      <td>1.315642e+00</td>\n",
       "      <td>0.803724</td>\n",
       "      <td>1.027196e+00</td>\n",
       "      <td>7.433413e-01</td>\n",
       "      <td>6.119264e-01</td>\n",
       "      <td>3.985649e-01</td>\n",
       "      <td>5.704361e-01</td>\n",
       "      <td>3.273458e-01</td>\n",
       "      <td>5.971390e-01</td>\n",
       "      <td>...</td>\n",
       "      <td>1.863772e-01</td>\n",
       "      <td>5.285536e-01</td>\n",
       "      <td>1.476421e-01</td>\n",
       "      <td>4.395266e-01</td>\n",
       "      <td>3.507156e-01</td>\n",
       "      <td>2.409522e-01</td>\n",
       "      <td>9.104512e-02</td>\n",
       "      <td>7.827995e-02</td>\n",
       "      <td>77.165001</td>\n",
       "      <td>0.000000</td>\n",
       "    </tr>\n",
       "    <tr>\n",
       "      <th>max</th>\n",
       "      <td>172792.000000</td>\n",
       "      <td>2.454930e+00</td>\n",
       "      <td>22.057730</td>\n",
       "      <td>9.382559e+00</td>\n",
       "      <td>1.687534e+01</td>\n",
       "      <td>3.480167e+01</td>\n",
       "      <td>7.330163e+01</td>\n",
       "      <td>1.205895e+02</td>\n",
       "      <td>2.000721e+01</td>\n",
       "      <td>1.559499e+01</td>\n",
       "      <td>...</td>\n",
       "      <td>2.720284e+01</td>\n",
       "      <td>1.050309e+01</td>\n",
       "      <td>2.252841e+01</td>\n",
       "      <td>4.584549e+00</td>\n",
       "      <td>7.519588e+00</td>\n",
       "      <td>3.517346e+00</td>\n",
       "      <td>3.161220e+01</td>\n",
       "      <td>3.384781e+01</td>\n",
       "      <td>25691.160156</td>\n",
       "      <td>1.000000</td>\n",
       "    </tr>\n",
       "  </tbody>\n",
       "</table>\n",
       "<p>8 rows × 31 columns</p>\n",
       "</div>"
      ],
      "text/plain": [
       "                Time            V1             V2            V3            V4  \\\n",
       "count  284807.000000  2.848070e+05  284807.000000  2.848070e+05  2.848070e+05   \n",
       "mean    94813.867188  1.339397e-08       0.000000 -4.800400e-08  6.643411e-09   \n",
       "std     47488.144531  1.958696e+00       1.651309  1.516255e+00  1.415869e+00   \n",
       "min         0.000000 -5.640751e+01     -72.715729 -4.832559e+01 -5.683171e+00   \n",
       "25%     54201.500000 -9.203734e-01      -0.598550 -8.903648e-01 -8.486401e-01   \n",
       "50%     84692.000000  1.810880e-02       0.065486  1.798463e-01 -1.984653e-02   \n",
       "75%    139320.500000  1.315642e+00       0.803724  1.027196e+00  7.433413e-01   \n",
       "max    172792.000000  2.454930e+00      22.057730  9.382559e+00  1.687534e+01   \n",
       "\n",
       "                 V5            V6            V7            V8            V9  \\\n",
       "count  2.848070e+05  2.848070e+05  2.848070e+05  2.848070e+05  2.848070e+05   \n",
       "mean   2.657364e-08 -1.500125e-09 -1.071518e-09 -1.071518e-10 -3.214554e-10   \n",
       "std    1.380247e+00  1.332271e+00  1.237094e+00  1.194353e+00  1.098632e+00   \n",
       "min   -1.137433e+02 -2.616051e+01 -4.355724e+01 -7.321672e+01 -1.343407e+01   \n",
       "25%   -6.915971e-01 -7.682956e-01 -5.540759e-01 -2.086297e-01 -6.430976e-01   \n",
       "50%   -5.433583e-02 -2.741871e-01  4.010308e-02  2.235804e-02 -5.142873e-02   \n",
       "75%    6.119264e-01  3.985649e-01  5.704361e-01  3.273458e-01  5.971390e-01   \n",
       "max    3.480167e+01  7.330163e+01  1.205895e+02  2.000721e+01  1.559499e+01   \n",
       "\n",
       "       ...           V21           V22           V23           V24  \\\n",
       "count  ...  2.848070e+05  2.848070e+05  2.848070e+05  2.848070e+05   \n",
       "mean   ... -1.928732e-09  3.643161e-09  3.214554e-10  1.259033e-09   \n",
       "std    ...  7.345240e-01  7.257016e-01  6.244603e-01  6.056471e-01   \n",
       "min    ... -3.483038e+01 -1.093314e+01 -4.480774e+01 -2.836627e+00   \n",
       "25%    ... -2.283949e-01 -5.423504e-01 -1.618463e-01 -3.545861e-01   \n",
       "50%    ... -2.945017e-02  6.781943e-03 -1.119293e-02  4.097605e-02   \n",
       "75%    ...  1.863772e-01  5.285536e-01  1.476421e-01  4.395266e-01   \n",
       "max    ...  2.720284e+01  1.050309e+01  2.252841e+01  4.584549e+00   \n",
       "\n",
       "                V25           V26           V27           V28         Amount  \\\n",
       "count  2.848070e+05  2.848070e+05  2.848070e+05  2.848070e+05  284807.000000   \n",
       "mean   2.143036e-09  1.034684e-09  1.138488e-10 -1.272427e-10      88.349609   \n",
       "std    5.212781e-01  4.822270e-01  4.036325e-01  3.300833e-01     250.120117   \n",
       "min   -1.029540e+01 -2.604551e+00 -2.256568e+01 -1.543008e+01       0.000000   \n",
       "25%   -3.171451e-01 -3.269839e-01 -7.083953e-02 -5.295979e-02       5.600000   \n",
       "50%    1.659350e-02 -5.213911e-02  1.342146e-03  1.124383e-02      22.000000   \n",
       "75%    3.507156e-01  2.409522e-01  9.104512e-02  7.827995e-02      77.165001   \n",
       "max    7.519588e+00  3.517346e+00  3.161220e+01  3.384781e+01   25691.160156   \n",
       "\n",
       "               Class  \n",
       "count  284807.000000  \n",
       "mean        0.001727  \n",
       "std         0.041527  \n",
       "min         0.000000  \n",
       "25%         0.000000  \n",
       "50%         0.000000  \n",
       "75%         0.000000  \n",
       "max         1.000000  \n",
       "\n",
       "[8 rows x 31 columns]"
      ]
     },
     "execution_count": 11,
     "metadata": {},
     "output_type": "execute_result"
    }
   ],
   "source": [
    "df.describe()"
   ]
  },
  {
   "cell_type": "markdown",
   "id": "f8ba02f2-9d70-4ff0-9d82-a33711adf034",
   "metadata": {},
   "source": [
    "Check for any missing values"
   ]
  },
  {
   "cell_type": "code",
   "execution_count": 12,
   "id": "1fdee2d1-856f-4876-96d9-8942521c0596",
   "metadata": {},
   "outputs": [
    {
     "data": {
      "text/plain": [
       "Time      0\n",
       "V1        0\n",
       "V2        0\n",
       "V3        0\n",
       "V4        0\n",
       "V5        0\n",
       "V6        0\n",
       "V7        0\n",
       "V8        0\n",
       "V9        0\n",
       "V10       0\n",
       "V11       0\n",
       "V12       0\n",
       "V13       0\n",
       "V14       0\n",
       "V15       0\n",
       "V16       0\n",
       "V17       0\n",
       "V18       0\n",
       "V19       0\n",
       "V20       0\n",
       "V21       0\n",
       "V22       0\n",
       "V23       0\n",
       "V24       0\n",
       "V25       0\n",
       "V26       0\n",
       "V27       0\n",
       "V28       0\n",
       "Amount    0\n",
       "Class     0\n",
       "dtype: int64"
      ]
     },
     "execution_count": 12,
     "metadata": {},
     "output_type": "execute_result"
    }
   ],
   "source": [
    "df.isna().sum()"
   ]
  },
  {
   "cell_type": "markdown",
   "id": "61af00ea-3cb8-4dea-a266-8e1ee9416edc",
   "metadata": {},
   "source": [
    "Make a copy to modify and visualise"
   ]
  },
  {
   "cell_type": "code",
   "execution_count": 13,
   "id": "073fa698-b036-48c0-bbf7-f1e0b7c896c7",
   "metadata": {},
   "outputs": [],
   "source": [
    "df_copy = df.copy()"
   ]
  },
  {
   "cell_type": "code",
   "execution_count": 14,
   "id": "47d937fc-c59d-44e6-841d-25f684c01bd9",
   "metadata": {},
   "outputs": [
    {
     "data": {
      "text/plain": [
       "<seaborn.axisgrid.FacetGrid at 0x7f4c2d3c0f70>"
      ]
     },
     "execution_count": 14,
     "metadata": {},
     "output_type": "execute_result"
    },
    {
     "data": {
      "image/png": "[encoded data removed]",
      "text/plain": [
       "<Figure size 402.375x360 with 1 Axes>"
      ]
     },
     "metadata": {
      "needs_background": "light"
     },
     "output_type": "display_data"
    }
   ],
   "source": [
    "ax = sns.displot(df_copy, x='Time', hue='Class', kind='kde', fill=True, common_norm=False)\n",
    "ax.set(title='Time Density Plot per Class')"
   ]
  },
  {
   "cell_type": "code",
   "execution_count": 15,
   "id": "e691a9b9-b9ac-4a62-a59a-80db3b5739de",
   "metadata": {},
   "outputs": [
    {
     "data": {
      "text/plain": [
       "<seaborn.axisgrid.FacetGrid at 0x7f4c2dff7d30>"
      ]
     },
     "execution_count": 15,
     "metadata": {},
     "output_type": "execute_result"
    },
    {
     "data": {
      "image/png": "[encoded data removed]",
      "text/plain": [
       "<Figure size 402.375x360 with 1 Axes>"
      ]
     },
     "metadata": {
      "needs_background": "light"
     },
     "output_type": "display_data"
    }
   ],
   "source": [
    "ax = sns.displot(df_copy, x='Amount', hue='Class', kind='kde', fill=True, common_norm=False)\n",
    "ax.set(title='Amount Density Plot per Class')"
   ]
  },
  {
   "cell_type": "code",
   "execution_count": 16,
   "id": "dd2e3550-0cc1-4acc-8cd7-f68ce6dbd250",
   "metadata": {},
   "outputs": [
    {
     "data": {
      "text/plain": [
       "<seaborn.axisgrid.FacetGrid at 0x7f4c2c2097f0>"
      ]
     },
     "execution_count": 16,
     "metadata": {},
     "output_type": "execute_result"
    },
    {
     "data": {
      "image/png": "[encoded data removed]",
      "text/plain": [
       "<Figure size 402.375x360 with 1 Axes>"
      ]
     },
     "metadata": {
      "needs_background": "light"
     },
     "output_type": "display_data"
    }
   ],
   "source": [
    "df_copy['Hour'] = df_copy['Time'].apply(lambda x: np.ceil(x / 3600) % 24)\n",
    "\n",
    "ax = sns.displot(df_copy, x='Hour', hue='Class', kind='kde', fill=True, common_norm=False)\n",
    "ax.set(title='Amount Density Plot per Class')"
   ]
  },
  {
   "cell_type": "code",
   "execution_count": 17,
   "id": "2b1d403e-255d-467a-8978-82da8a9539d8",
   "metadata": {},
   "outputs": [
    {
     "data": {
      "text/html": [
       "<div>\n",
       "<style scoped>\n",
       "    .dataframe tbody tr th:only-of-type {\n",
       "        vertical-align: middle;\n",
       "    }\n",
       "\n",
       "    .dataframe tbody tr th {\n",
       "        vertical-align: top;\n",
       "    }\n",
       "\n",
       "    .dataframe thead th {\n",
       "        text-align: right;\n",
       "    }\n",
       "</style>\n",
       "<table border=\"1\" class=\"dataframe\">\n",
       "  <thead>\n",
       "    <tr style=\"text-align: right;\">\n",
       "      <th></th>\n",
       "      <th>Hour</th>\n",
       "      <th>Class</th>\n",
       "      <th>Min</th>\n",
       "      <th>Max</th>\n",
       "      <th>Transactions</th>\n",
       "      <th>Sum</th>\n",
       "      <th>Mean</th>\n",
       "      <th>Median</th>\n",
       "      <th>Var</th>\n",
       "    </tr>\n",
       "  </thead>\n",
       "  <tbody>\n",
       "    <tr>\n",
       "      <th>0</th>\n",
       "      <td>0.0</td>\n",
       "      <td>0</td>\n",
       "      <td>0.0</td>\n",
       "      <td>10199.440430</td>\n",
       "      <td>10919</td>\n",
       "      <td>750813.937500</td>\n",
       "      <td>68.762154</td>\n",
       "      <td>14.400000</td>\n",
       "      <td>46255.160156</td>\n",
       "    </tr>\n",
       "    <tr>\n",
       "      <th>1</th>\n",
       "      <td>0.0</td>\n",
       "      <td>1</td>\n",
       "      <td>0.0</td>\n",
       "      <td>512.250000</td>\n",
       "      <td>21</td>\n",
       "      <td>3143.119873</td>\n",
       "      <td>149.672379</td>\n",
       "      <td>42.529999</td>\n",
       "      <td>31753.310547</td>\n",
       "    </tr>\n",
       "    <tr>\n",
       "      <th>2</th>\n",
       "      <td>1.0</td>\n",
       "      <td>0</td>\n",
       "      <td>0.0</td>\n",
       "      <td>7712.430176</td>\n",
       "      <td>7687</td>\n",
       "      <td>462282.281250</td>\n",
       "      <td>60.138191</td>\n",
       "      <td>12.140000</td>\n",
       "      <td>33692.777344</td>\n",
       "    </tr>\n",
       "    <tr>\n",
       "      <th>3</th>\n",
       "      <td>1.0</td>\n",
       "      <td>1</td>\n",
       "      <td>0.0</td>\n",
       "      <td>829.409973</td>\n",
       "      <td>6</td>\n",
       "      <td>1820.069946</td>\n",
       "      <td>303.345001</td>\n",
       "      <td>230.239990</td>\n",
       "      <td>123876.718750</td>\n",
       "    </tr>\n",
       "    <tr>\n",
       "      <th>4</th>\n",
       "      <td>2.0</td>\n",
       "      <td>0</td>\n",
       "      <td>0.0</td>\n",
       "      <td>2481.600098</td>\n",
       "      <td>4212</td>\n",
       "      <td>263171.250000</td>\n",
       "      <td>62.481300</td>\n",
       "      <td>18.980000</td>\n",
       "      <td>21216.832031</td>\n",
       "    </tr>\n",
       "  </tbody>\n",
       "</table>\n",
       "</div>"
      ],
      "text/plain": [
       "   Hour  Class  Min           Max  Transactions            Sum        Mean  \\\n",
       "0   0.0      0  0.0  10199.440430         10919  750813.937500   68.762154   \n",
       "1   0.0      1  0.0    512.250000            21    3143.119873  149.672379   \n",
       "2   1.0      0  0.0   7712.430176          7687  462282.281250   60.138191   \n",
       "3   1.0      1  0.0    829.409973             6    1820.069946  303.345001   \n",
       "4   2.0      0  0.0   2481.600098          4212  263171.250000   62.481300   \n",
       "\n",
       "       Median            Var  \n",
       "0   14.400000   46255.160156  \n",
       "1   42.529999   31753.310547  \n",
       "2   12.140000   33692.777344  \n",
       "3  230.239990  123876.718750  \n",
       "4   18.980000   21216.832031  "
      ]
     },
     "execution_count": 17,
     "metadata": {},
     "output_type": "execute_result"
    }
   ],
   "source": [
    "tmp = df_copy.groupby(['Hour', 'Class'])['Amount'].aggregate(['min', 'max', 'count', 'sum', 'mean', 'median', 'var']).reset_index()\n",
    "stats = pd.DataFrame(tmp)\n",
    "stats.columns = ['Hour', 'Class', 'Min', 'Max', 'Transactions', 'Sum', 'Mean', 'Median', 'Var']\n",
    "stats.head()"
   ]
  },
  {
   "cell_type": "markdown",
   "id": "39d4d912-77c1-45ed-97fa-ed343110cad8",
   "metadata": {},
   "source": [
    "Above, we plotted the volume of transactions per class grouped by hours of the day. Fraudulent Transactions have spikes in activity at specific hours and during usual sleeping hours."
   ]
  },
  {
   "cell_type": "code",
   "execution_count": 18,
   "id": "69f3208b-6788-4d19-b87b-c6c8068ebef3",
   "metadata": {},
   "outputs": [
    {
     "name": "stderr",
     "output_type": "stream",
     "text": [
      "/tmp/ipykernel_157391/172411016.py:7: UserWarning: Matplotlib is currently using module://matplotlib_inline.backend_inline, which is a non-GUI backend, so cannot show the figure.\n",
      "  fig.show()\n"
     ]
    },
    {
     "data": {
      "image/png": "[encoded data removed]",
      "text/plain": [
       "<Figure size 864x360 with 2 Axes>"
      ]
     },
     "metadata": {
      "needs_background": "light"
     },
     "output_type": "display_data"
    }
   ],
   "source": [
    "fig, ax = plt.subplots(1,2, figsize=(12,5))\n",
    "sns.lineplot(x='Hour', y='Transactions', data=stats.query('Class == 0'), ax=ax[0])\n",
    "sns.lineplot(x='Hour', y='Transactions', data=stats.query('Class == 1'), color='red', ax=ax[1])\n",
    "fig.suptitle('Total Number of Transactions per Hour of the Day')\n",
    "ax[0].set(title='Legit Transactions')\n",
    "ax[1].set(title='Fraud Transactions')\n",
    "fig.show()"
   ]
  },
  {
   "cell_type": "markdown",
   "id": "b432f9d2-61f6-4bc9-9920-0d6028e377eb",
   "metadata": {},
   "source": [
    "**Data Preparation**\n",
    "\n",
    "To avoid overfitting, adjust model parameters progressively by incrementally increase the fraction of data by 20%"
   ]
  },
  {
   "cell_type": "code",
   "execution_count": 19,
   "id": "68b58882-22ac-4508-be69-560d243941c0",
   "metadata": {},
   "outputs": [],
   "source": [
    "df = df.sample(frac=1, random_state=SEED).reset_index(drop=True)"
   ]
  },
  {
   "cell_type": "code",
   "execution_count": 20,
   "id": "7604cb65-0b84-46ac-adbc-8351a457a59b",
   "metadata": {},
   "outputs": [],
   "source": [
    "y = df['Class']\n",
    "X = df.drop('Class', axis=1)\n",
    "\n",
    "feature_names = X.columns.tolist()"
   ]
  },
  {
   "cell_type": "code",
   "execution_count": 21,
   "id": "f1feef65-636c-431b-83eb-26147c803e41",
   "metadata": {},
   "outputs": [
    {
     "data": {
      "text/plain": [
       "0    0.998273\n",
       "1    0.001727\n",
       "Name: Class, dtype: float64"
      ]
     },
     "execution_count": 21,
     "metadata": {},
     "output_type": "execute_result"
    }
   ],
   "source": [
    "y.value_counts(normalize=True)"
   ]
  },
  {
   "cell_type": "markdown",
   "id": "5dda7ccf-4aa8-456b-81a0-24257a5802ab",
   "metadata": {},
   "source": [
    "From above result, data is unbalanced. Less than 1% positive fraudulent examples\n",
    "\n",
    "From loaded data, we split the data into training and testing sets using the 80-20 rule"
   ]
  },
  {
   "cell_type": "code",
   "execution_count": 22,
   "id": "5b54ca89-e268-4a79-9b56-a65f4ebc51e9",
   "metadata": {},
   "outputs": [],
   "source": [
    "X_train, X_test, y_train, y_test = train_test_split(X, y, test_size=0.2, stratify=y, shuffle=True, random_state=SEED)"
   ]
  },
  {
   "cell_type": "markdown",
   "id": "e790ac9d-4ea2-488c-a995-35e3d62bd455",
   "metadata": {},
   "source": [
    "**Feature Engineering**\n",
    "\n",
    "Calculate additional features containing statistical information about anonymized values"
   ]
  },
  {
   "cell_type": "code",
   "execution_count": 23,
   "id": "354befab-4246-4983-ac5d-7bbdacb53fa3",
   "metadata": {},
   "outputs": [],
   "source": [
    "def get_group_stats(df: pd.DataFrame) -> pd.DataFrame:\n",
    "    \"\"\"\n",
    "    Create features by calculating statistical moments.\n",
    "    \n",
    "    :param df: Pandas DataFrame containing all features\n",
    "    \"\"\"\n",
    "    cols = list(filter(lambda x: x.startswith('V'), df.columns))\n",
    "    \n",
    "    # avoid warnings about returning-a-view-versus-a-copy\n",
    "    ds = df.copy()\n",
    "    \n",
    "    ds['V_mean'] = df[cols].mean(axis=1)\n",
    "    ds['V_std'] = df[cols].std(axis=1)\n",
    "    ds['V_skew'] = df[cols].skew(axis=1)\n",
    "    \n",
    "    return ds\n",
    "\n",
    "X_train = get_group_stats(X_train)\n",
    "X_test = get_group_stats(X_test)"
   ]
  },
  {
   "cell_type": "code",
   "execution_count": 24,
   "id": "41924dac-3c0b-4b38-a2a3-eb53bfcb83aa",
   "metadata": {},
   "outputs": [
    {
     "data": {
      "text/html": [
       "<div>\n",
       "<style scoped>\n",
       "    .dataframe tbody tr th:only-of-type {\n",
       "        vertical-align: middle;\n",
       "    }\n",
       "\n",
       "    .dataframe tbody tr th {\n",
       "        vertical-align: top;\n",
       "    }\n",
       "\n",
       "    .dataframe thead th {\n",
       "        text-align: right;\n",
       "    }\n",
       "</style>\n",
       "<table border=\"1\" class=\"dataframe\">\n",
       "  <thead>\n",
       "    <tr style=\"text-align: right;\">\n",
       "      <th></th>\n",
       "      <th>Time</th>\n",
       "      <th>V1</th>\n",
       "      <th>V2</th>\n",
       "      <th>V3</th>\n",
       "      <th>V4</th>\n",
       "      <th>V5</th>\n",
       "      <th>V6</th>\n",
       "      <th>V7</th>\n",
       "      <th>V8</th>\n",
       "      <th>V9</th>\n",
       "      <th>...</th>\n",
       "      <th>V23</th>\n",
       "      <th>V24</th>\n",
       "      <th>V25</th>\n",
       "      <th>V26</th>\n",
       "      <th>V27</th>\n",
       "      <th>V28</th>\n",
       "      <th>Amount</th>\n",
       "      <th>V_mean</th>\n",
       "      <th>V_std</th>\n",
       "      <th>V_skew</th>\n",
       "    </tr>\n",
       "  </thead>\n",
       "  <tbody>\n",
       "    <tr>\n",
       "      <th>9319</th>\n",
       "      <td>101691.0</td>\n",
       "      <td>2.113122</td>\n",
       "      <td>-0.067427</td>\n",
       "      <td>-1.062211</td>\n",
       "      <td>0.183495</td>\n",
       "      <td>0.154411</td>\n",
       "      <td>-0.585322</td>\n",
       "      <td>-0.166365</td>\n",
       "      <td>-0.246107</td>\n",
       "      <td>1.995113</td>\n",
       "      <td>...</td>\n",
       "      <td>0.439633</td>\n",
       "      <td>-1.133765</td>\n",
       "      <td>-0.631077</td>\n",
       "      <td>0.046039</td>\n",
       "      <td>-0.101130</td>\n",
       "      <td>-0.065391</td>\n",
       "      <td>9.91</td>\n",
       "      <td>-0.054216</td>\n",
       "      <td>1.051117</td>\n",
       "      <td>-0.050505</td>\n",
       "    </tr>\n",
       "    <tr>\n",
       "      <th>210502</th>\n",
       "      <td>72620.0</td>\n",
       "      <td>1.143742</td>\n",
       "      <td>0.174741</td>\n",
       "      <td>0.862678</td>\n",
       "      <td>1.052988</td>\n",
       "      <td>-0.666547</td>\n",
       "      <td>-0.569471</td>\n",
       "      <td>-0.211694</td>\n",
       "      <td>0.059470</td>\n",
       "      <td>0.007118</td>\n",
       "      <td>...</td>\n",
       "      <td>0.127981</td>\n",
       "      <td>0.469585</td>\n",
       "      <td>0.219076</td>\n",
       "      <td>-0.651484</td>\n",
       "      <td>0.028700</td>\n",
       "      <td>0.026081</td>\n",
       "      <td>9.99</td>\n",
       "      <td>0.145706</td>\n",
       "      <td>0.572725</td>\n",
       "      <td>0.400858</td>\n",
       "    </tr>\n",
       "    <tr>\n",
       "      <th>51455</th>\n",
       "      <td>141717.0</td>\n",
       "      <td>-1.502364</td>\n",
       "      <td>1.635901</td>\n",
       "      <td>-0.646716</td>\n",
       "      <td>0.359882</td>\n",
       "      <td>0.136560</td>\n",
       "      <td>-1.127764</td>\n",
       "      <td>0.249920</td>\n",
       "      <td>0.705085</td>\n",
       "      <td>0.144000</td>\n",
       "      <td>...</td>\n",
       "      <td>-0.158949</td>\n",
       "      <td>-0.092972</td>\n",
       "      <td>0.533375</td>\n",
       "      <td>-0.573315</td>\n",
       "      <td>-0.318169</td>\n",
       "      <td>-0.041170</td>\n",
       "      <td>1.99</td>\n",
       "      <td>-0.236430</td>\n",
       "      <td>0.796273</td>\n",
       "      <td>0.079623</td>\n",
       "    </tr>\n",
       "    <tr>\n",
       "      <th>128284</th>\n",
       "      <td>104458.0</td>\n",
       "      <td>-0.580486</td>\n",
       "      <td>0.721799</td>\n",
       "      <td>-1.554297</td>\n",
       "      <td>-1.735136</td>\n",
       "      <td>-0.122013</td>\n",
       "      <td>-0.069607</td>\n",
       "      <td>3.386795</td>\n",
       "      <td>-0.889773</td>\n",
       "      <td>0.539206</td>\n",
       "      <td>...</td>\n",
       "      <td>-0.313510</td>\n",
       "      <td>0.815592</td>\n",
       "      <td>0.198952</td>\n",
       "      <td>0.883310</td>\n",
       "      <td>-0.015340</td>\n",
       "      <td>0.017878</td>\n",
       "      <td>400.00</td>\n",
       "      <td>0.114818</td>\n",
       "      <td>1.246032</td>\n",
       "      <td>0.522092</td>\n",
       "    </tr>\n",
       "    <tr>\n",
       "      <th>251996</th>\n",
       "      <td>111058.0</td>\n",
       "      <td>-3.715441</td>\n",
       "      <td>4.175828</td>\n",
       "      <td>-2.217402</td>\n",
       "      <td>-1.207024</td>\n",
       "      <td>-0.075184</td>\n",
       "      <td>-0.972042</td>\n",
       "      <td>0.425504</td>\n",
       "      <td>0.317196</td>\n",
       "      <td>4.090196</td>\n",
       "      <td>...</td>\n",
       "      <td>0.148733</td>\n",
       "      <td>0.492251</td>\n",
       "      <td>0.091003</td>\n",
       "      <td>-0.209533</td>\n",
       "      <td>2.023499</td>\n",
       "      <td>1.224342</td>\n",
       "      <td>0.89</td>\n",
       "      <td>0.399176</td>\n",
       "      <td>1.810966</td>\n",
       "      <td>0.338856</td>\n",
       "    </tr>\n",
       "  </tbody>\n",
       "</table>\n",
       "<p>5 rows × 33 columns</p>\n",
       "</div>"
      ],
      "text/plain": [
       "            Time        V1        V2        V3        V4        V5        V6  \\\n",
       "9319    101691.0  2.113122 -0.067427 -1.062211  0.183495  0.154411 -0.585322   \n",
       "210502   72620.0  1.143742  0.174741  0.862678  1.052988 -0.666547 -0.569471   \n",
       "51455   141717.0 -1.502364  1.635901 -0.646716  0.359882  0.136560 -1.127764   \n",
       "128284  104458.0 -0.580486  0.721799 -1.554297 -1.735136 -0.122013 -0.069607   \n",
       "251996  111058.0 -3.715441  4.175828 -2.217402 -1.207024 -0.075184 -0.972042   \n",
       "\n",
       "              V7        V8        V9  ...       V23       V24       V25  \\\n",
       "9319   -0.166365 -0.246107  1.995113  ...  0.439633 -1.133765 -0.631077   \n",
       "210502 -0.211694  0.059470  0.007118  ...  0.127981  0.469585  0.219076   \n",
       "51455   0.249920  0.705085  0.144000  ... -0.158949 -0.092972  0.533375   \n",
       "128284  3.386795 -0.889773  0.539206  ... -0.313510  0.815592  0.198952   \n",
       "251996  0.425504  0.317196  4.090196  ...  0.148733  0.492251  0.091003   \n",
       "\n",
       "             V26       V27       V28  Amount    V_mean     V_std    V_skew  \n",
       "9319    0.046039 -0.101130 -0.065391    9.91 -0.054216  1.051117 -0.050505  \n",
       "210502 -0.651484  0.028700  0.026081    9.99  0.145706  0.572725  0.400858  \n",
       "51455  -0.573315 -0.318169 -0.041170    1.99 -0.236430  0.796273  0.079623  \n",
       "128284  0.883310 -0.015340  0.017878  400.00  0.114818  1.246032  0.522092  \n",
       "251996 -0.209533  2.023499  1.224342    0.89  0.399176  1.810966  0.338856  \n",
       "\n",
       "[5 rows x 33 columns]"
      ]
     },
     "execution_count": 24,
     "metadata": {},
     "output_type": "execute_result"
    }
   ],
   "source": [
    "X_train.head()"
   ]
  },
  {
   "cell_type": "markdown",
   "id": "2d145f3c-077a-443a-940c-7332ddf66f07",
   "metadata": {},
   "source": [
    "Training our model using Cross Validation. \n",
    "\n",
    "Using GroupKFold strategy to generate splits. \n",
    "\n",
    "Grouping is based on hour of the day of the given transaction since specific hours have more fraudulent transactions as per our previous plot"
   ]
  },
  {
   "cell_type": "code",
   "execution_count": 25,
   "id": "84d9a17c-7a30-4b90-bbf8-661889ecb106",
   "metadata": {},
   "outputs": [],
   "source": [
    "sfold = StratifiedKFold(n_splits=3)\n",
    "\n",
    "hour_train = X_train['Time'].apply(lambda x: np.ceil(float(x) / 3600) % 24)\n",
    "\n",
    "gfold = GroupKFold(n_splits=3)\n",
    "groups = list(gfold.split(X_train, y_train, groups=hour_train))"
   ]
  },
  {
   "cell_type": "code",
   "execution_count": 26,
   "id": "45f81443-8b11-49b8-9e3d-ff64ec946348",
   "metadata": {},
   "outputs": [],
   "source": [
    "def plot_correlation(corr: str) -> plt.Axes:\n",
    "    mask = np.triu(np.ones_like(corr, dtype=bool))\n",
    "    f, ax = plt.subplots(figsize=(11, 9))\n",
    "    cmap = sns.diverging_palette(230, 20, as_cmap=True)\n",
    "    sns.heatmap(corr, mask=mask, cmap=cmap, vmax=.3, center=0,\n",
    "                square=True, linewidths=.5, cbar_kws={\"shrink\": .5})"
   ]
  },
  {
   "cell_type": "code",
   "execution_count": 27,
   "id": "e73aa304-0460-4683-8e99-1cd49199e514",
   "metadata": {},
   "outputs": [],
   "source": [
    "def select_features_correlation(df: pd.DataFrame) -> list:\n",
    "    # Calculate correlations with target\n",
    "    full_corr = df.corr(method='spearman')\n",
    "    corr_with_target = full_corr['Class'].T.apply(abs).sort_values(ascending=False)\n",
    "    \n",
    "    min_threshold = corr_with_target.quantile(.25)\n",
    "    \n",
    "    # Select features with highest correlation to the target variable\n",
    "    features_correlation = corr_with_target[corr_with_target >= min_threshold]\n",
    "    features_correlation.drop('Class', inplace=True)\n",
    "    return features_correlation.index.tolist()"
   ]
  },
  {
   "cell_type": "markdown",
   "id": "b117cfc9-bee2-47b4-a0da-16846c5575f8",
   "metadata": {},
   "source": [
    "Data is highly unbalanced. \n",
    "\n",
    "Obtaining Co-relation between some features is difficult. \n",
    "\n",
    "Undersampling the data to reduce the number of examples of the majority class gives a better co-relation. \n",
    "\n",
    "Use this co-relation amount to select higher co-related features with target class."
   ]
  },
  {
   "cell_type": "code",
   "execution_count": 29,
   "id": "1ffb8e0a-513d-4bd6-87b5-0104303adaa1",
   "metadata": {},
   "outputs": [
    {
     "data": {
      "image/png": "[encoded data removed]",
      "text/plain": [
       "<Figure size 792x648 with 2 Axes>"
      ]
     },
     "metadata": {
      "needs_background": "light"
     },
     "output_type": "display_data"
    }
   ],
   "source": [
    "plot_correlation(X_train.corr(method='spearman'))"
   ]
  },
  {
   "cell_type": "code",
   "execution_count": 30,
   "id": "183f5b62-c8ab-44a2-b34e-ced9f7b86178",
   "metadata": {},
   "outputs": [
    {
     "data": {
      "image/png": "[encoded data removed]",
      "text/plain": [
       "<Figure size 792x648 with 2 Axes>"
      ]
     },
     "metadata": {
      "needs_background": "light"
     },
     "output_type": "display_data"
    }
   ],
   "source": [
    "sampler = RandomUnderSampler(random_state=SEED)\n",
    "X_resampled, y_resampled = sampler.fit_resample(X_train, y_train)\n",
    "X_resampled['Class'] = y_resampled\n",
    "\n",
    "plot_correlation(X_resampled.corr(method='spearman'))"
   ]
  },
  {
   "cell_type": "markdown",
   "id": "0ee12585-3cac-4e7f-9ed2-b4f5d32b3721",
   "metadata": {},
   "source": [
    "Select features that have co-relation with target class, higher than the lower quartile value. For that, we drop features with low co-relation to help reduce the complexity"
   ]
  },
  {
   "cell_type": "code",
   "execution_count": 31,
   "id": "6e6dcae2-1a4f-4069-9e96-078721a5dc0b",
   "metadata": {},
   "outputs": [],
   "source": [
    "cols = select_features_correlation(X_resampled)\n",
    "X_train = X_train[cols]\n",
    "X_test = X_test[cols]"
   ]
  },
  {
   "cell_type": "markdown",
   "id": "0b0a64e4-6820-4be5-8ccf-9fad4c378df0",
   "metadata": {},
   "source": [
    "**Modelling**\n",
    "\n",
    "Use Grid Search to tune hyperparameters of the model. Apply cross validation using GroupKFold as mentioned previously.\n",
    "\n",
    "Performance Evaluation Method\n",
    "- In this, false positives and false negatives are both relevant, so we use F1-score\n",
    "- Accuracy alone can be misleading in this scenario\n",
    "- Use maximum depth value to reduce chances of overfitting\n",
    "- Test using different percentage of features used by each tree\n",
    "- Try out 2 different learning rates\n",
    "- Other params are kept to fine-tune alpha regularization value and sub-sample of the training set\n",
    "\n",
    "**Baseline**\n",
    "\n",
    "Train a simple baseline model for result reference"
   ]
  },
  {
   "cell_type": "code",
   "execution_count": 32,
   "id": "a0eaeb7a-ba6f-4472-ad3e-09bd5d41166a",
   "metadata": {},
   "outputs": [],
   "source": [
    "pipeline = Pipeline([\n",
    "    ('standardscaler', StandardScaler()),\n",
    "    ('clf', LGBMClassifier(n_jobs=-1, random_state=SEED)),\n",
    "])"
   ]
  },
  {
   "cell_type": "code",
   "execution_count": 33,
   "id": "17d09a33-b7ec-49fb-af5b-c9bdc7b1331b",
   "metadata": {},
   "outputs": [
    {
     "name": "stdout",
     "output_type": "stream",
     "text": [
      "Baseline MCC score: 0.14004205517311877\n",
      "Baseline AP score: 0.026597984566692115\n",
      "Baseline ROC AUC score: 0.7472040071954448\n",
      "Baseline F1 score: 0.07980786840725138\n"
     ]
    }
   ],
   "source": [
    "mcc_results = []\n",
    "ap_results = []\n",
    "roc_auc_results = []\n",
    "f1_results = []\n",
    "\n",
    "for train_index, test_index in groups:\n",
    "    pipeline.fit(X_train.values[train_index], y_train.values[train_index])\n",
    "    test_data = pipeline['standardscaler'].transform(X_train.values[test_index])\n",
    "    \n",
    "    y_pred = pipeline.predict(test_data)\n",
    "    \n",
    "    mcc_results.append(matthews_corrcoef(y_train.values[test_index], y_pred))\n",
    "    ap_results.append(average_precision_score(y_train.values[test_index], y_pred))\n",
    "    roc_auc_results.append(roc_auc_score(y_train.values[test_index], y_pred))\n",
    "    f1_results.append(f1_score(y_train.values[test_index], y_pred))\n",
    "\n",
    "\n",
    "print(f'Baseline MCC score: {np.mean(mcc_results)}')\n",
    "print(f'Baseline AP score: {np.mean(ap_results)}')\n",
    "print(f'Baseline ROC AUC score: {np.mean(roc_auc_results)}')\n",
    "print(f'Baseline F1 score: {np.mean(f1_results)}')"
   ]
  },
  {
   "cell_type": "markdown",
   "id": "c7a8b0e3-bb7d-4373-aec1-aa472c492e5a",
   "metadata": {},
   "source": [
    "**Fine Tuning**"
   ]
  },
  {
   "cell_type": "code",
   "execution_count": 35,
   "id": "a3cc899c-3e09-451e-842f-b58775770444",
   "metadata": {},
   "outputs": [],
   "source": [
    "gbm_grid = {\n",
    "    'clf__n_estimators': [500, 1000],\n",
    "    'clf__learning_rate': [0.1, 0.01],\n",
    "    'clf__max_depth': [4, 6, 8],\n",
    "    'clf__colsample_bytree': np.linspace(0.6, 1.0, num=5),\n",
    "    'clf__reg_alpha': np.linspace(0., 1.0, num=5),\n",
    "    'clf__subsample': np.linspace(0.7, 1.0, num=4),\n",
    "}"
   ]
  },
  {
   "cell_type": "code",
   "execution_count": 36,
   "id": "45c08ea3-5f65-4216-afe3-0fd7a2952b9b",
   "metadata": {},
   "outputs": [],
   "source": [
    "def grid_search_tuning(pipeline, X, y, grid, fold):\n",
    "    grid = HalvingGridSearchCV(pipeline, param_grid=grid, cv=fold, scoring='f1',\n",
    "                               random_state=SEED, n_jobs=-1, verbose=1)\n",
    "    grid.fit(X, y)\n",
    "    \n",
    "    print(f\"\\nMean test score: {np.mean(grid.cv_results_['mean_test_score'])}\")\n",
    "    print(f'Best parameters: {grid.best_params_}')\n",
    "    \n",
    "    return grid.best_estimator_"
   ]
  },
  {
   "cell_type": "code",
   "execution_count": 37,
   "id": "f8a6b668-9dd8-4570-824c-215f5b99f15c",
   "metadata": {},
   "outputs": [
    {
     "name": "stdout",
     "output_type": "stream",
     "text": [
      "Using previously tuned model parameters.\n"
     ]
    }
   ],
   "source": [
    "if USE_TUNED_PARAMS:\n",
    "    print('Using previously tuned model parameters.')\n",
    "    \n",
    "    best_params = {\n",
    "        'n_estimators': 500,\n",
    "        'learning_rate': 0.01,\n",
    "        'max_depth': 8,\n",
    "        'colsample_bytree': 0.6,\n",
    "    }\n",
    "    \n",
    "    pipeline = Pipeline([\n",
    "        ('standardscaler', StandardScaler()),\n",
    "        ('clf', LGBMClassifier(**best_params, n_jobs=-1, random_state=SEED)),\n",
    "    ])\n",
    "    \n",
    "    grid = pipeline.fit(X_train, y_train)\n",
    "else:\n",
    "    pipeline = Pipeline([\n",
    "        ('standardscaler', StandardScaler()),\n",
    "        ('clf', LGBMClassifier(n_jobs=-1, random_state=SEED)),\n",
    "    ])\n",
    "\n",
    "    # It can take a while to run\n",
    "    grid = grid_search_tuning(pipeline, X_train, y_train, gbm_grid, groups)"
   ]
  },
  {
   "cell_type": "markdown",
   "id": "ce127216-7a2c-401a-b1d2-7af613a26068",
   "metadata": {},
   "source": [
    "Model's performance evaluation on the test set and feature importance."
   ]
  },
  {
   "cell_type": "code",
   "execution_count": 38,
   "id": "6a1ce557-a765-4f3f-af06-54f9aff70798",
   "metadata": {},
   "outputs": [],
   "source": [
    "def score_model(clf, X_test, y_test, feature_names):\n",
    "    y_pred = clf.predict(X_test)\n",
    "    y_probas = clf.predict_proba(X_test)\n",
    "\n",
    "    print(classification_report_imbalanced(y_test, y_pred, target_names=['Legit', 'Fraud']))\n",
    "    print(f'MCC: {matthews_corrcoef(y_test, y_pred)}\\nAP: ' +\n",
    "          f'{average_precision_score(y_test, y_pred)}\\nROC AUC: {roc_auc_score(y_test, y_pred)}')\n",
    "\n",
    "    fig, ax = plt.subplots(1,2, figsize=(12,5))\n",
    "    skplt.metrics.plot_precision_recall(y_test, y_probas, ax=ax[0])\n",
    "    skplt.metrics.plot_confusion_matrix(y_test, y_pred, normalize=True, ax=ax[1])\n",
    "    fig.show()\n",
    "    \n",
    "    skplt.estimators.plot_feature_importances(clf, feature_names=feature_names, figsize=(16,5))\n",
    "\n",
    "    return y_probas"
   ]
  },
  {
   "cell_type": "code",
   "execution_count": 39,
   "id": "dd5edcdc-abf1-4455-86dd-da3cdb7d44e9",
   "metadata": {},
   "outputs": [
    {
     "name": "stdout",
     "output_type": "stream",
     "text": [
      "                   pre       rec       spe        f1       geo       iba       sup\n",
      "\n",
      "      Legit       1.00      1.00      0.81      1.00      0.90      0.82     56864\n",
      "      Fraud       0.94      0.81      1.00      0.87      0.90      0.79        98\n",
      "\n",
      "avg / total       1.00      1.00      0.81      1.00      0.90      0.82     56962\n",
      "\n",
      "MCC: 0.8705096324464109\n",
      "AP: 0.7584725255774664\n",
      "ROC AUC: 0.9030172599428067\n"
     ]
    },
    {
     "name": "stderr",
     "output_type": "stream",
     "text": [
      "/tmp/ipykernel_157391/2537049574.py:12: UserWarning: Matplotlib is currently using module://matplotlib_inline.backend_inline, which is a non-GUI backend, so cannot show the figure.\n",
      "  fig.show()\n"
     ]
    },
    {
     "data": {
      "image/png": "[encoded data removed]",
      "text/plain": [
       "<Figure size 864x360 with 3 Axes>"
      ]
     },
     "metadata": {
      "needs_background": "light"
     },
     "output_type": "display_data"
    },
    {
     "data": {
      "image/png": "[encoded data removed]",
      "text/plain": [
       "<Figure size 1152x360 with 1 Axes>"
      ]
     },
     "metadata": {
      "needs_background": "light"
     },
     "output_type": "display_data"
    }
   ],
   "source": [
    "scaled_X_test = grid['standardscaler'].transform(X_test)\n",
    "\n",
    "y_probas = score_model(grid['clf'], scaled_X_test, y_test, feature_names)"
   ]
  },
  {
   "cell_type": "code",
   "execution_count": 40,
   "id": "b4ff1c6f-bd39-4f96-b7c7-19567c40235e",
   "metadata": {},
   "outputs": [
    {
     "data": {
      "text/plain": [
       "<AxesSubplot:title={'center':'Calibration plots (Reliability Curves)'}, xlabel='Mean predicted value', ylabel='Fraction of positives'>"
      ]
     },
     "execution_count": 40,
     "metadata": {},
     "output_type": "execute_result"
    },
    {
     "data": {
      "image/png": "[encoded data removed]",
      "text/plain": [
       "<Figure size 432x360 with 1 Axes>"
      ]
     },
     "metadata": {
      "needs_background": "light"
     },
     "output_type": "display_data"
    }
   ],
   "source": [
    "skplt.metrics.plot_calibration_curve(y_test, [y_probas], ['LightGBM'], figsize=(6,5))"
   ]
  },
  {
   "cell_type": "code",
   "execution_count": 41,
   "id": "bb2c6d96-d3fe-4a85-83fe-f68320f015d3",
   "metadata": {},
   "outputs": [
    {
     "data": {
      "text/plain": [
       "<AxesSubplot:title={'center':'Learning Curve'}, xlabel='Training examples', ylabel='Score'>"
      ]
     },
     "execution_count": 41,
     "metadata": {},
     "output_type": "execute_result"
    },
    {
     "data": {
      "image/png": "[encoded data removed]",
      "text/plain": [
       "<Figure size 432x288 with 1 Axes>"
      ]
     },
     "metadata": {
      "needs_background": "light"
     },
     "output_type": "display_data"
    }
   ],
   "source": [
    "skplt.estimators.plot_learning_curve(grid['clf'], X_train, y_train, scoring='f1', n_jobs=-1, random_state=SEED)"
   ]
  },
  {
   "cell_type": "markdown",
   "id": "0e9f8e5b-517d-410a-8e7b-adbcfb4d11e5",
   "metadata": {},
   "source": [
    "**Conclusion**\n",
    "\n",
    "- Resampling didn't produce good enough results\n",
    "- Under sampling, over sampling and a combination of both didn't produce good enough results"
   ]
  },
  {
   "cell_type": "markdown",
   "id": "17d119e0-dcc8-4d92-a906-44a38f2850ff",
   "metadata": {},
   "source": [
    "**Possible Reasons**\n",
    "- Most variables were from PCA transformations and this affected impact of sampling\n",
    "- Low number of fraudulent transactions caused undersampling to produce a tiny data set too small to train a decent model"
   ]
  },
  {
   "cell_type": "markdown",
   "id": "a18c13e8-326e-4c91-9c4a-757a90de0c8e",
   "metadata": {},
   "source": [
    "**Result of Model Testing**\n",
    "\n",
    "In fraud detection, as mentioned previously, two cases are essential for a good model : achieve true positives(identify real fraudulent transactions) and avoid false positives(avoid labelling real transactions as fraudulent). The above model provides good results at achieving true positives with an F1 score of 0.87 and doesn't label any genuine transactions as fraudulent"
   ]
  }
 ],
 "metadata": {
  "kernelspec": {
   "display_name": "Python 3 (ipykernel)",
   "language": "python",
   "name": "python3"
  },
  "language_info": {
   "codemirror_mode": {
    "name": "ipython",
    "version": 3
   },
   "file_extension": ".py",
   "mimetype": "text/x-python",
   "name": "python",
   "nbconvert_exporter": "python",
   "pygments_lexer": "ipython3",
   "version": "3.9.7"
  }
 },
 "nbformat": 4,
 "nbformat_minor": 5
}
